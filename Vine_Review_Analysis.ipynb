{
  "nbformat": 4,
  "nbformat_minor": 0,
  "metadata": {
    "colab": {
      "name": "Vine_Review_Analysis.ipynb",
      "provenance": []
    },
    "kernelspec": {
      "name": "python3",
      "display_name": "Python 3"
    },
    "language_info": {
      "name": "python"
    }
  },
  "cells": [
    {
      "cell_type": "code",
      "metadata": {
        "colab": {
          "base_uri": "https://localhost:8080/"
        },
        "id": "MD_4qIOlWmlL",
        "outputId": "825b48c5-18f5-4ce4-cf65-c3caf1c83ad0"
      },
      "source": [
        "import os\n",
        "# Find the latest version of spark 2.0  from http://www-us.apache.org/dist/spark/ and enter as the spark version\n",
        "# For example:\n",
        "# spark_version = 'spark-3.0.0'\n",
        "spark_version = 'spark-3.1.2'\n",
        "os.environ['SPARK_VERSION']=spark_version\n",
        "\n",
        "# Install Spark and Java\n",
        "!apt-get update\n",
        "!apt-get install openjdk-11-jdk-headless -qq > /dev/null\n",
        "!wget -q http://www-us.apache.org/dist/spark/$SPARK_VERSION/$SPARK_VERSION-bin-hadoop2.7.tgz\n",
        "!tar xf $SPARK_VERSION-bin-hadoop2.7.tgz\n",
        "!pip install -q findspark\n",
        "\n",
        "# Set Environment Variables\n",
        "import os\n",
        "os.environ[\"JAVA_HOME\"] = \"/usr/lib/jvm/java-11-openjdk-amd64\"\n",
        "os.environ[\"SPARK_HOME\"] = f\"/content/{spark_version}-bin-hadoop2.7\"\n",
        "\n",
        "# Start a SparkSession\n",
        "import findspark\n",
        "findspark.init()"
      ],
      "execution_count": 1,
      "outputs": [
        {
          "output_type": "stream",
          "text": [
            "\r0% [Working]\r            \rHit:1 https://cloud.r-project.org/bin/linux/ubuntu bionic-cran40/ InRelease\n",
            "\r0% [Waiting for headers] [Waiting for headers] [Waiting for headers] [Waiting f\r                                                                               \rGet:2 http://security.ubuntu.com/ubuntu bionic-security InRelease [88.7 kB]\n",
            "\r0% [Waiting for headers] [2 InRelease 14.2 kB/88.7 kB 16%] [Waiting for headers\r0% [1 InRelease gpgv 3,626 B] [Waiting for headers] [2 InRelease 14.2 kB/88.7 k\r                                                                               \rIgn:3 https://developer.download.nvidia.com/compute/cuda/repos/ubuntu1804/x86_64  InRelease\n",
            "Hit:4 http://ppa.launchpad.net/c2d4u.team/c2d4u4.0+/ubuntu bionic InRelease\n",
            "Hit:5 http://archive.ubuntu.com/ubuntu bionic InRelease\n",
            "Ign:6 https://developer.download.nvidia.com/compute/machine-learning/repos/ubuntu1804/x86_64  InRelease\n",
            "Get:7 https://developer.download.nvidia.com/compute/cuda/repos/ubuntu1804/x86_64  Release [697 B]\n",
            "Hit:8 https://developer.download.nvidia.com/compute/machine-learning/repos/ubuntu1804/x86_64  Release\n",
            "Get:9 https://developer.download.nvidia.com/compute/cuda/repos/ubuntu1804/x86_64  Release.gpg [836 B]\n",
            "Get:10 http://archive.ubuntu.com/ubuntu bionic-updates InRelease [88.7 kB]\n",
            "Hit:11 http://ppa.launchpad.net/cran/libgit2/ubuntu bionic InRelease\n",
            "Get:12 http://ppa.launchpad.net/deadsnakes/ppa/ubuntu bionic InRelease [15.9 kB]\n",
            "Get:13 http://archive.ubuntu.com/ubuntu bionic-backports InRelease [74.6 kB]\n",
            "Hit:14 http://ppa.launchpad.net/graphics-drivers/ppa/ubuntu bionic InRelease\n",
            "Get:15 http://security.ubuntu.com/ubuntu bionic-security/main amd64 Packages [2,185 kB]\n",
            "Get:16 http://security.ubuntu.com/ubuntu bionic-security/universe amd64 Packages [1,415 kB]\n",
            "Ign:18 https://developer.download.nvidia.com/compute/cuda/repos/ubuntu1804/x86_64  Packages\n",
            "Get:18 https://developer.download.nvidia.com/compute/cuda/repos/ubuntu1804/x86_64  Packages [599 kB]\n",
            "Get:19 http://archive.ubuntu.com/ubuntu bionic-updates/universe amd64 Packages [2,185 kB]\n",
            "Get:20 http://ppa.launchpad.net/deadsnakes/ppa/ubuntu bionic/main amd64 Packages [40.9 kB]\n",
            "Get:21 http://archive.ubuntu.com/ubuntu bionic-updates/main amd64 Packages [2,619 kB]\n",
            "Fetched 9,312 kB in 4s (2,436 kB/s)\n",
            "Reading package lists... Done\n"
          ],
          "name": "stdout"
        }
      ]
    },
    {
      "cell_type": "code",
      "metadata": {
        "id": "5SdHjxtDW5wB"
      },
      "source": [
        "# Start Spark session\n",
        "from pyspark.sql import SparkSession\n",
        "spark = SparkSession.builder.appName(\"VineReviewAnalysis\").getOrCreate()"
      ],
      "execution_count": 2,
      "outputs": []
    },
    {
      "cell_type": "code",
      "metadata": {
        "colab": {
          "base_uri": "https://localhost:8080/"
        },
        "id": "gUbpwfocaQR_",
        "outputId": "179e2efd-aab3-44ed-e2f6-3e938e8e5b27"
      },
      "source": [
        "# Read in data from S3 Buckets\n",
        "from pyspark import SparkFiles\n",
        "url = \"https://tflynn615-vine.s3.us-east-2.amazonaws.com/vine_table.csv\"\n",
        "spark.sparkContext.addFile(url)\n",
        "df = spark.read.csv(SparkFiles.get(\"vine_table.csv\"), sep=\",\", header=True)\n",
        "\n",
        "df.show()"
      ],
      "execution_count": 3,
      "outputs": [
        {
          "output_type": "stream",
          "text": [
            "+--------------+-----------+-------------+-----------+----+-----------------+\n",
            "|     review_id|star_rating|helpful_votes|total_votes|vine|verified_purchase|\n",
            "+--------------+-----------+-------------+-----------+----+-----------------+\n",
            "|R11X0I2GAJ7ZHO|          1|            0|          0|   N|                Y|\n",
            "|R1QCGNX8V8U7H5|          5|            0|          0|   N|                Y|\n",
            "|R1XTKENV68TZZF|          5|            0|          0|   N|                Y|\n",
            "|R1MWFEB4B4DOPF|          5|            1|          1|   N|                Y|\n",
            "|R122JEYIN5238V|          1|            2|          2|   N|                Y|\n",
            "|R3S0UVTM8WOEAJ|          5|            0|          0|   N|                Y|\n",
            "| R8BUSTIR4G4IU|          5|            0|          0|   N|                N|\n",
            "| RWG9TO53TW6UT|          3|            1|          1|   N|                Y|\n",
            "|R2M8RW0HAMPBJD|          3|            1|          1|   N|                Y|\n",
            "|R34X8V8SGSZX2S|          4|            0|          0|   N|                Y|\n",
            "|R1VTOX8ZAGE6K1|          1|            0|          0|   N|                Y|\n",
            "|R2O2MVQWXRBEAF|          2|           19|         22|   N|                Y|\n",
            "|R267PDSHOFBS6R|          5|            0|          0|   Y|                N|\n",
            "| RLLKXDV4YPC5E|          4|            1|          1|   N|                Y|\n",
            "|R1V8IV6RQBYIK0|          2|            0|          0|   N|                Y|\n",
            "|R1QBCCFF7MPE9X|          5|            0|          0|   N|                Y|\n",
            "|R1KKZH5X7LA2S6|          5|            0|          0|   N|                Y|\n",
            "|R36QG45LZN6UKX|          5|            0|          0|   N|                Y|\n",
            "|R1I5WRS1IKZDGV|          5|            0|          0|   N|                Y|\n",
            "|R1FT1ZLSV5CEXN|          2|            0|          2|   N|                Y|\n",
            "+--------------+-----------+-------------+-----------+----+-----------------+\n",
            "only showing top 20 rows\n",
            "\n"
          ],
          "name": "stdout"
        }
      ]
    },
    {
      "cell_type": "code",
      "metadata": {
        "colab": {
          "base_uri": "https://localhost:8080/"
        },
        "id": "HRXEUpzabYHI",
        "outputId": "cd14a138-ed19-42a6-b4cb-13dd59b9d3a9"
      },
      "source": [
        "total_df = df.filter(\"total_votes>20\")\n",
        "total_df.show()"
      ],
      "execution_count": 4,
      "outputs": [
        {
          "output_type": "stream",
          "text": [
            "+--------------+-----------+-------------+-----------+----+-----------------+\n",
            "|     review_id|star_rating|helpful_votes|total_votes|vine|verified_purchase|\n",
            "+--------------+-----------+-------------+-----------+----+-----------------+\n",
            "|R2O2MVQWXRBEAF|          2|           19|         22|   N|                Y|\n",
            "|R2D1I6BW7RLRJR|          3|           38|         43|   N|                Y|\n",
            "|R29EPD5BP4MOIC|          1|           17|         30|   N|                Y|\n",
            "|R13H6BIQLHBG9J|          3|           22|         22|   N|                Y|\n",
            "| RIXWNTR8D8AA9|          5|           60|         61|   N|                Y|\n",
            "|R15P6YTD54R2WL|          5|           21|         24|   N|                Y|\n",
            "|R2PR3OB794LC9L|          3|           35|         43|   N|                Y|\n",
            "|R310XMILWS4RPO|          4|           41|         42|   N|                Y|\n",
            "|R3VU0RR422AJDO|          5|           70|         78|   N|                Y|\n",
            "| REO3UTDOPYIH3|          4|           21|         23|   N|                Y|\n",
            "|R1MQ7JJA96NK8Z|          5|           62|         65|   N|                N|\n",
            "|R1BL5M5TZHSGBK|          3|           30|         36|   N|                Y|\n",
            "|R193QVX9C4LY6A|          5|           55|         56|   N|                Y|\n",
            "|R2YIPBGB0T072R|          1|           18|         36|   N|                Y|\n",
            "|R2IAHLO912Q59S|          1|           17|         25|   N|                Y|\n",
            "| RY37FR3K4HSYR|          5|           34|         34|   N|                Y|\n",
            "|R1TN3ER3E14QXD|          2|          154|        160|   N|                N|\n",
            "|R37225M2HF5F70|          5|           24|         24|   N|                Y|\n",
            "|R3P21BCCOXQDR3|          5|           13|         30|   N|                Y|\n",
            "| ROAWLIH3Q197E|          3|           29|         30|   N|                N|\n",
            "+--------------+-----------+-------------+-----------+----+-----------------+\n",
            "only showing top 20 rows\n",
            "\n"
          ],
          "name": "stdout"
        }
      ]
    },
    {
      "cell_type": "code",
      "metadata": {
        "colab": {
          "base_uri": "https://localhost:8080/"
        },
        "id": "IY5IRIrucDFX",
        "outputId": "918e910e-2b98-4f1e-c87f-7c91825f8251"
      },
      "source": [
        "helpful_df = total_df.filter(\"helpful_votes/total_votes>=0.5\")\n",
        "helpful_df.show()"
      ],
      "execution_count": 5,
      "outputs": [
        {
          "output_type": "stream",
          "text": [
            "+--------------+-----------+-------------+-----------+----+-----------------+\n",
            "|     review_id|star_rating|helpful_votes|total_votes|vine|verified_purchase|\n",
            "+--------------+-----------+-------------+-----------+----+-----------------+\n",
            "|R2O2MVQWXRBEAF|          2|           19|         22|   N|                Y|\n",
            "|R2D1I6BW7RLRJR|          3|           38|         43|   N|                Y|\n",
            "|R29EPD5BP4MOIC|          1|           17|         30|   N|                Y|\n",
            "|R13H6BIQLHBG9J|          3|           22|         22|   N|                Y|\n",
            "| RIXWNTR8D8AA9|          5|           60|         61|   N|                Y|\n",
            "|R15P6YTD54R2WL|          5|           21|         24|   N|                Y|\n",
            "|R2PR3OB794LC9L|          3|           35|         43|   N|                Y|\n",
            "|R310XMILWS4RPO|          4|           41|         42|   N|                Y|\n",
            "|R3VU0RR422AJDO|          5|           70|         78|   N|                Y|\n",
            "| REO3UTDOPYIH3|          4|           21|         23|   N|                Y|\n",
            "|R1MQ7JJA96NK8Z|          5|           62|         65|   N|                N|\n",
            "|R1BL5M5TZHSGBK|          3|           30|         36|   N|                Y|\n",
            "|R193QVX9C4LY6A|          5|           55|         56|   N|                Y|\n",
            "|R2YIPBGB0T072R|          1|           18|         36|   N|                Y|\n",
            "|R2IAHLO912Q59S|          1|           17|         25|   N|                Y|\n",
            "| RY37FR3K4HSYR|          5|           34|         34|   N|                Y|\n",
            "|R1TN3ER3E14QXD|          2|          154|        160|   N|                N|\n",
            "|R37225M2HF5F70|          5|           24|         24|   N|                Y|\n",
            "| ROAWLIH3Q197E|          3|           29|         30|   N|                N|\n",
            "| RTGBQHWXM06PI|          5|           21|         21|   N|                Y|\n",
            "+--------------+-----------+-------------+-----------+----+-----------------+\n",
            "only showing top 20 rows\n",
            "\n"
          ],
          "name": "stdout"
        }
      ]
    },
    {
      "cell_type": "code",
      "metadata": {
        "colab": {
          "base_uri": "https://localhost:8080/"
        },
        "id": "N3n_zBp0cfjS",
        "outputId": "088b0fce-cba8-4acd-ad9c-c6851f2d3f54"
      },
      "source": [
        "vine_df = helpful_df.filter(helpful_df[\"vine\"]=='Y')\n",
        "vine_df.show()"
      ],
      "execution_count": 7,
      "outputs": [
        {
          "output_type": "stream",
          "text": [
            "+--------------+-----------+-------------+-----------+----+-----------------+\n",
            "|     review_id|star_rating|helpful_votes|total_votes|vine|verified_purchase|\n",
            "+--------------+-----------+-------------+-----------+----+-----------------+\n",
            "|R2012Y5S3OSZIC|          5|           89|         92|   Y|                N|\n",
            "|R3OFJBZGLZIUZN|          5|           23|         25|   Y|                N|\n",
            "|R19IMEOXPFYTYF|          4|           58|         64|   Y|                N|\n",
            "|R14WO7F0WU7UUH|          5|           43|         52|   Y|                N|\n",
            "| R9SQ52SZTDU9F|          5|          115|        133|   Y|                N|\n",
            "|R24DWRW5KISRB6|          5|           30|         33|   Y|                N|\n",
            "| RR4BE0JTFZPFN|          3|           50|         52|   Y|                N|\n",
            "|R3I71LOJ4DKK6M|          5|           30|         34|   Y|                N|\n",
            "|R2CHC193Y2IQRU|          5|           52|         57|   Y|                N|\n",
            "|R2EYKK32WQLLFM|          4|           22|         24|   Y|                N|\n",
            "|R28ASQ9BSG1UMY|          4|           27|         29|   Y|                N|\n",
            "|R3IFV7DBAAYI5B|          3|           49|         57|   Y|                N|\n",
            "|R2OY0X9DD412PE|          4|          108|        113|   Y|                N|\n",
            "| RXBL4LMWXQ0W1|          5|          232|        249|   Y|                N|\n",
            "| ROA9QHEEASUNV|          4|           25|         26|   Y|                N|\n",
            "|R3PA0A2HP88A0C|          3|          419|        441|   Y|                N|\n",
            "| RZEM9L6D46HSA|          4|           55|         57|   Y|                N|\n",
            "|R158IGTAHUGV14|          3|           58|         63|   Y|                N|\n",
            "|R2JJLRB46DN12I|          3|           36|         42|   Y|                N|\n",
            "| RVJH7N4WII62S|          3|           16|         22|   Y|                N|\n",
            "+--------------+-----------+-------------+-----------+----+-----------------+\n",
            "only showing top 20 rows\n",
            "\n"
          ],
          "name": "stdout"
        }
      ]
    },
    {
      "cell_type": "code",
      "metadata": {
        "colab": {
          "base_uri": "https://localhost:8080/"
        },
        "id": "r0oWV8F_cy9O",
        "outputId": "905f3003-b532-41e0-c159-c256fb219f93"
      },
      "source": [
        "not_vine_df = helpful_df.filter(helpful_df[\"vine\"]=='N')\n",
        "not_vine_df.show()"
      ],
      "execution_count": 8,
      "outputs": [
        {
          "output_type": "stream",
          "text": [
            "+--------------+-----------+-------------+-----------+----+-----------------+\n",
            "|     review_id|star_rating|helpful_votes|total_votes|vine|verified_purchase|\n",
            "+--------------+-----------+-------------+-----------+----+-----------------+\n",
            "|R2O2MVQWXRBEAF|          2|           19|         22|   N|                Y|\n",
            "|R2D1I6BW7RLRJR|          3|           38|         43|   N|                Y|\n",
            "|R29EPD5BP4MOIC|          1|           17|         30|   N|                Y|\n",
            "|R13H6BIQLHBG9J|          3|           22|         22|   N|                Y|\n",
            "| RIXWNTR8D8AA9|          5|           60|         61|   N|                Y|\n",
            "|R15P6YTD54R2WL|          5|           21|         24|   N|                Y|\n",
            "|R2PR3OB794LC9L|          3|           35|         43|   N|                Y|\n",
            "|R310XMILWS4RPO|          4|           41|         42|   N|                Y|\n",
            "|R3VU0RR422AJDO|          5|           70|         78|   N|                Y|\n",
            "| REO3UTDOPYIH3|          4|           21|         23|   N|                Y|\n",
            "|R1MQ7JJA96NK8Z|          5|           62|         65|   N|                N|\n",
            "|R1BL5M5TZHSGBK|          3|           30|         36|   N|                Y|\n",
            "|R193QVX9C4LY6A|          5|           55|         56|   N|                Y|\n",
            "|R2YIPBGB0T072R|          1|           18|         36|   N|                Y|\n",
            "|R2IAHLO912Q59S|          1|           17|         25|   N|                Y|\n",
            "| RY37FR3K4HSYR|          5|           34|         34|   N|                Y|\n",
            "|R1TN3ER3E14QXD|          2|          154|        160|   N|                N|\n",
            "|R37225M2HF5F70|          5|           24|         24|   N|                Y|\n",
            "| ROAWLIH3Q197E|          3|           29|         30|   N|                N|\n",
            "| RTGBQHWXM06PI|          5|           21|         21|   N|                Y|\n",
            "+--------------+-----------+-------------+-----------+----+-----------------+\n",
            "only showing top 20 rows\n",
            "\n"
          ],
          "name": "stdout"
        }
      ]
    },
    {
      "cell_type": "code",
      "metadata": {
        "colab": {
          "base_uri": "https://localhost:8080/"
        },
        "id": "MD7sXF5dc4Z1",
        "outputId": "d5a34ae6-7638-4b07-935e-b59218b3a8c3"
      },
      "source": [
        "# Total Paid \n",
        "\n",
        "total_paid = vine_df.count()\n",
        "\n",
        "print(total_paid)"
      ],
      "execution_count": 18,
      "outputs": [
        {
          "output_type": "stream",
          "text": [
            "926\n"
          ],
          "name": "stdout"
        }
      ]
    },
    {
      "cell_type": "code",
      "metadata": {
        "colab": {
          "base_uri": "https://localhost:8080/"
        },
        "id": "p_H__UmIdoHz",
        "outputId": "082e8f57-c243-4fb1-f36f-5b303adc3222"
      },
      "source": [
        "# Total Unpaid \n",
        "\n",
        "total_unpaid = not_vine_df.count()\n",
        "\n",
        "print(total_unpaid)"
      ],
      "execution_count": 19,
      "outputs": [
        {
          "output_type": "stream",
          "text": [
            "41096\n"
          ],
          "name": "stdout"
        }
      ]
    },
    {
      "cell_type": "code",
      "metadata": {
        "colab": {
          "base_uri": "https://localhost:8080/"
        },
        "id": "cizI0Z87dsmR",
        "outputId": "4c853407-d1bb-4f9a-a646-581bcf7d52a9"
      },
      "source": [
        "# Number of 5-Star Reviews Paid \n",
        "\n",
        "five_paid = vine_df.filter(\"star_rating=5\").count()\n",
        "print(five_paid)"
      ],
      "execution_count": 20,
      "outputs": [
        {
          "output_type": "stream",
          "text": [
            "408\n"
          ],
          "name": "stdout"
        }
      ]
    },
    {
      "cell_type": "code",
      "metadata": {
        "colab": {
          "base_uri": "https://localhost:8080/"
        },
        "id": "K-K-zUdQeoqY",
        "outputId": "75a80210-2410-4131-a9bd-0832dc5f57dd"
      },
      "source": [
        "# Number of 5-Star Reviews Paid \n",
        "\n",
        "five_unpaid = not_vine_df.filter(\"star_rating=5\").count()\n",
        "print(five_unpaid)"
      ],
      "execution_count": 21,
      "outputs": [
        {
          "output_type": "stream",
          "text": [
            "18104\n"
          ],
          "name": "stdout"
        }
      ]
    },
    {
      "cell_type": "code",
      "metadata": {
        "colab": {
          "base_uri": "https://localhost:8080/"
        },
        "id": "iPqQHvsFe1MV",
        "outputId": "a41482e4-cd4f-4f2e-d2c7-68efd3dff656"
      },
      "source": [
        "# Percentage of Reviews 5 stars \n",
        "\n",
        "paid_percent = (five_paid/total_paid)*100 \n",
        "print(paid_percent) \n",
        "unpaid_percent = (five_unpaid/total_unpaid)*100 \n",
        "print(unpaid_percent)"
      ],
      "execution_count": 22,
      "outputs": [
        {
          "output_type": "stream",
          "text": [
            "44.06047516198704\n",
            "44.052949192135486\n"
          ],
          "name": "stdout"
        }
      ]
    }
  ]
}